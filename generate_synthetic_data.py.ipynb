{
 "cells": [
  {
   "cell_type": "code",
   "execution_count": 1,
   "id": "956b07c6",
   "metadata": {
    "scrolled": true
   },
   "outputs": [
    {
     "name": "stdout",
     "output_type": "stream",
     "text": [
      "Requirement already satisfied: pandas in c:\\users\\jkmfi\\anaconda3\\lib\\site-packages (1.4.4)Note: you may need to restart the kernel to use updated packages.\n",
      "\n",
      "Requirement already satisfied: numpy in c:\\users\\jkmfi\\anaconda3\\lib\\site-packages (1.24.4)\n",
      "Collecting faker\n",
      "  Downloading Faker-30.3.0-py3-none-any.whl (1.8 MB)\n",
      "     ---------------------------------------- 1.8/1.8 MB 14.6 MB/s eta 0:00:00\n",
      "Requirement already satisfied: pytz>=2020.1 in c:\\users\\jkmfi\\anaconda3\\lib\\site-packages (from pandas) (2022.1)\n",
      "Requirement already satisfied: python-dateutil>=2.8.1 in c:\\users\\jkmfi\\anaconda3\\lib\\site-packages (from pandas) (2.8.2)\n",
      "Requirement already satisfied: typing-extensions in c:\\users\\jkmfi\\anaconda3\\lib\\site-packages (from faker) (4.12.2)\n",
      "Requirement already satisfied: six>=1.5 in c:\\users\\jkmfi\\anaconda3\\lib\\site-packages (from python-dateutil>=2.8.1->pandas) (1.16.0)\n",
      "Installing collected packages: faker\n",
      "Successfully installed faker-30.3.0\n"
     ]
    }
   ],
   "source": [
    "pip install pandas numpy faker"
   ]
  },
  {
   "cell_type": "code",
   "execution_count": 1,
   "id": "752195dc",
   "metadata": {},
   "outputs": [],
   "source": [
    "import pandas as pd\n",
    "import numpy as np\n",
    "from faker import Faker\n",
    "import random "
   ]
  },
  {
   "cell_type": "code",
   "execution_count": 2,
   "id": "527464f1",
   "metadata": {},
   "outputs": [],
   "source": [
    "## Initalize Faker\n",
    "fake = Faker()\n",
    "Faker.seed(42)  # Seed for reproducibility\n",
    "random.seed(42)"
   ]
  },
  {
   "cell_type": "code",
   "execution_count": 3,
   "id": "0f0bc0b2",
   "metadata": {},
   "outputs": [],
   "source": [
    "# Define the number of records you want to generate\n",
    "num_records = 20000"
   ]
  },
  {
   "cell_type": "code",
   "execution_count": 4,
   "id": "e3aedfad",
   "metadata": {},
   "outputs": [],
   "source": [
    "# Define transaction categories and payment methods\n",
    "categories = ['Groceries', 'Rent', 'Utilities', 'Entertainment', 'Dining', 'Transport', 'Health', 'Shopping']\n",
    "payment_methods = ['Credit Card', 'Debit Card', 'Cash', 'Bank Transfer']"
   ]
  },
  {
   "cell_type": "code",
   "execution_count": 5,
   "id": "8ab70186",
   "metadata": {},
   "outputs": [],
   "source": [
    "def generate_transactions(num_records):\n",
    "    transactions = []\n",
    "    \n",
    "    for _ in range(num_records):\n",
    "        # Generate random date\n",
    "        date = fake.date_this_year()\n",
    "        # Random category and corresponding amount variability\n",
    "        category = random.choice(categories)\n",
    "        base_amount = round(random.uniform(5.0, 1000.0), 2)\n",
    "        \n",
    "        # Add category-based variability to amount\n",
    "        if category == 'Rent':\n",
    "            amount = round(random.uniform(500, 2000), 2)\n",
    "        elif category == 'Groceries':\n",
    "            amount = round(random.uniform(20, 200), 2)\n",
    "        elif category == 'Utilities':\n",
    "            amount = round(random.uniform(50, 500), 2)\n",
    "        else:\n",
    "            amount = base_amount\n",
    "        \n",
    "        transaction = {\n",
    "            'Transaction ID': fake.uuid4(),\n",
    "            'Date': date,\n",
    "            'Weekday': date.weekday(),  # New feature: Day of the week (0 = Monday, 6 = Sunday)\n",
    "            'Month': date.month,        # New feature: Month of the transaction\n",
    "            'Category': category,\n",
    "            'Amount': amount,  # Amount adjusted by category\n",
    "            'Transaction Type': random.choice(['Expense', 'Income']),\n",
    "            'Payment Method': random.choice(payment_methods),\n",
    "            'Merchant': fake.company(),\n",
    "            'User ID': fake.uuid4()  # Optional for multi-user system\n",
    "        }\n",
    "        transactions.append(transaction)\n",
    "    \n",
    "    return pd.DataFrame(transactions)"
   ]
  },
  {
   "cell_type": "code",
   "execution_count": 6,
   "id": "5e92b5ef",
   "metadata": {},
   "outputs": [],
   "source": [
    "# Generate synthetic data\n",
    "synthetic_data = generate_transactions(num_records)"
   ]
  },
  {
   "cell_type": "code",
   "execution_count": 7,
   "id": "080f5811",
   "metadata": {},
   "outputs": [],
   "source": [
    "# Convert Date column to datetime type to ensure proper formatting\n",
    "synthetic_data['Date'] = pd.to_datetime(synthetic_data['Date'])"
   ]
  },
  {
   "cell_type": "code",
   "execution_count": 8,
   "id": "96c3cb8b",
   "metadata": {},
   "outputs": [
    {
     "name": "stdout",
     "output_type": "stream",
     "text": [
      "                         Transaction ID       Date  Weekday  Month   Category  \\\n",
      "0  46685257-bdd6-40fb-8667-1ad11c80317f 2024-09-05        3      9       Rent   \n",
      "1  0822e8f3-6c03-4199-972a-846916419f82 2024-07-30        1      7       Rent   \n",
      "2  8b8148f6-b38a-488c-a65e-d389b74d0fb1 2024-03-18        0      3  Groceries   \n",
      "3  571aa876-6c30-4511-b2b9-437a28df6ec4 2024-11-08        4     11     Health   \n",
      "4  9a8dca03-580d-4b71-98f5-64135be6128e 2024-02-07        2      2  Utilities   \n",
      "\n",
      "    Amount Transaction Type Payment Method           Merchant  \\\n",
      "0   912.54          Expense     Debit Card         Walker Ltd   \n",
      "1  1838.27          Expense  Bank Transfer     Davis and Sons   \n",
      "2    59.35          Expense     Debit Card  Robinson-Lawrence   \n",
      "3   224.34           Income    Credit Card      Moore-Bernard   \n",
      "4   203.11          Expense     Debit Card        Roman-Blair   \n",
      "\n",
      "                                User ID  \n",
      "0  e465e150-bd9c-46b3-ad3c-2d6d1a3d1fa7  \n",
      "1  8fadc1a6-06cb-4fb3-9a1d-e644815ef6d1  \n",
      "2  c241330b-01a9-471f-9e8a-774bcf36d58b  \n",
      "3  6142ea7d-17be-4111-9a2a-73ed562b0f79  \n",
      "4  ec1b8ca1-f91e-4d4c-9ff4-9b7889463e85  \n"
     ]
    }
   ],
   "source": [
    "# Print first few rows to verify dates\n",
    "print(synthetic_data.head())"
   ]
  },
  {
   "cell_type": "code",
   "execution_count": 9,
   "id": "abe3cd32",
   "metadata": {},
   "outputs": [],
   "source": [
    "# Save Date as string in 'YYYY-MM-DD' format to ensure correct display in CSV\n",
    "synthetic_data['Date'] = synthetic_data['Date'].dt.strftime('%Y-%m-%d')\n"
   ]
  },
  {
   "cell_type": "code",
   "execution_count": 10,
   "id": "d504c953",
   "metadata": {},
   "outputs": [
    {
     "name": "stdout",
     "output_type": "stream",
     "text": [
      "Synthetic dataset generated and saved to synthetic_expense_data.csv\n"
     ]
    }
   ],
   "source": [
    "# Save to CSV\n",
    "synthetic_data.to_csv('synthetic_expense_data1.csv', index=False)\n",
    "print('Synthetic dataset generated and saved to synthetic_expense_data.csv')"
   ]
  },
  {
   "cell_type": "code",
   "execution_count": null,
   "id": "b95ff78d",
   "metadata": {},
   "outputs": [],
   "source": []
  }
 ],
 "metadata": {
  "kernelspec": {
   "display_name": "Python 3 (ipykernel)",
   "language": "python",
   "name": "python3"
  },
  "language_info": {
   "codemirror_mode": {
    "name": "ipython",
    "version": 3
   },
   "file_extension": ".py",
   "mimetype": "text/x-python",
   "name": "python",
   "nbconvert_exporter": "python",
   "pygments_lexer": "ipython3",
   "version": "3.9.13"
  }
 },
 "nbformat": 4,
 "nbformat_minor": 5
}
